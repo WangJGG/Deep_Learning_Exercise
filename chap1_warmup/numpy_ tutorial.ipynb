{
 "cells": [
  {
   "cell_type": "markdown",
   "metadata": {},
   "source": [
    "#                                           numpy 练习题\n",
    "### Author: 2252699 王鉴戈"
   ]
  },
  {
   "cell_type": "markdown",
   "metadata": {
    "collapsed": true
   },
   "source": [
    " "
   ]
  },
  {
   "cell_type": "markdown",
   "metadata": {},
   "source": [
    "### numpy 的array操作"
   ]
  },
  {
   "cell_type": "markdown",
   "metadata": {},
   "source": [
    "#### 1.导入numpy库"
   ]
  },
  {
   "cell_type": "code",
   "execution_count": 1,
   "metadata": {
    "collapsed": true
   },
   "outputs": [],
   "source": [
    "import numpy as np"
   ]
  },
  {
   "cell_type": "markdown",
   "metadata": {},
   "source": [
    "#### 2.建立一个一维数组 a 初始化为[4,5,6], (1)输出a 的类型（type）(2)输出a的各维度的大小（shape）(3)输出 a的第一个元素（值为4）"
   ]
  },
  {
   "cell_type": "code",
   "execution_count": 2,
   "metadata": {
    "collapsed": true
   },
   "outputs": [
    {
     "name": "stdout",
     "output_type": "stream",
     "text": [
      "a的类型： <class 'numpy.ndarray'>\n",
      "a的形状： (3,)\n",
      "a的第一个元素： 4\n"
     ]
    }
   ],
   "source": [
    "a = np.array([4,5,6])  \n",
    "print(\"a的类型：\", type(a))         \n",
    "print(\"a的形状：\", a.shape)         \n",
    "print(\"a的第一个元素：\", a[0])           "
   ]
  },
  {
   "cell_type": "markdown",
   "metadata": {},
   "source": [
    "#### 3.建立一个二维数组 b,初始化为 [ [4, 5, 6],[1, 2, 3]] (1)输出各维度的大小（shape）(2)输出 b(0,0)，b(0,1),b(1,1) 这三个元素（对应值分别为4,5,2）"
   ]
  },
  {
   "cell_type": "code",
   "execution_count": 5,
   "metadata": {
    "collapsed": true
   },
   "outputs": [
    {
     "name": "stdout",
     "output_type": "stream",
     "text": [
      "b的形状： (2, 3)\n",
      "b(0,0): 4, b(0,1): 5, b(1,1): 2\n"
     ]
    }
   ],
   "source": [
    "b = np.array([[4,5,6],[1,2,3]]) \n",
    "print(\"b的形状：\",b.shape)\n",
    "print(f\"b(0,0): {b[0,0]}, b(0,1): {b[0,1]}, b(1,1): {b[1,1]}\")"
   ]
  },
  {
   "cell_type": "markdown",
   "metadata": {},
   "source": [
    "#### 4.  (1)建立一个全0矩阵 a, 大小为 3x3; 类型为整型（提示: dtype = int）(2)建立一个全1矩阵b,大小为4x5;  (3)建立一个单位矩阵c ,大小为4x4; (4)生成一个随机数矩阵d,大小为 3x2."
   ]
  },
  {
   "cell_type": "code",
   "execution_count": 53,
   "metadata": {
    "collapsed": true
   },
   "outputs": [
    {
     "name": "stdout",
     "output_type": "stream",
     "text": [
      "全0矩阵 a:\n",
      " [[0 0 0]\n",
      " [0 0 0]\n",
      " [0 0 0]]\n",
      "全1矩阵 b:\n",
      " [[1. 1. 1. 1. 1.]\n",
      " [1. 1. 1. 1. 1.]\n",
      " [1. 1. 1. 1. 1.]\n",
      " [1. 1. 1. 1. 1.]]\n",
      "单位矩阵 c:\n",
      " [[1. 0. 0. 0.]\n",
      " [0. 1. 0. 0.]\n",
      " [0. 0. 1. 0.]\n",
      " [0. 0. 0. 1.]]\n",
      "随机数矩阵 d:\n",
      " [[0.55642275 0.36649024]\n",
      " [0.54603918 0.90795288]\n",
      " [0.02584133 0.62178285]]\n"
     ]
    }
   ],
   "source": [
    "a = np.zeros((3,3), dtype=int)\n",
    "b = np.ones((4,5))\n",
    "c = np.eye(4,4)\n",
    "d = np.random.rand(3,2)\n",
    "\n",
    "print(\"全0矩阵 a:\\n\", a)\n",
    "print(\"全1矩阵 b:\\n\", b)\n",
    "print(\"单位矩阵 c:\\n\", c)\n",
    "print(\"随机数矩阵 d:\\n\", d)"
   ]
  },
  {
   "cell_type": "markdown",
   "metadata": {},
   "source": [
    "#### 5. 建立一个数组 a,(值为[[1, 2, 3, 4], [5, 6, 7, 8], [9, 10, 11, 12]] ) ,(1)打印a; (2)输出  下标为(2,3),(0,0) 这两个数组元素的值"
   ]
  },
  {
   "cell_type": "code",
   "execution_count": 7,
   "metadata": {
    "collapsed": true
   },
   "outputs": [
    {
     "name": "stdout",
     "output_type": "stream",
     "text": [
      "a:\n",
      " [[ 1  2  3  4]\n",
      " [ 5  6  7  8]\n",
      " [ 9 10 11 12]]\n",
      "a(2,3): 12, a(0,0): 1\n"
     ]
    }
   ],
   "source": [
    "a = np.array([[1,2,3,4],[5,6,7,8],[9,10,11,12]])\n",
    "print(\"a:\\n\", a)\n",
    "print(f\"a(2,3): {a[2,3]}, a(0,0): {a[0,0]}\")\n"
   ]
  },
  {
   "cell_type": "markdown",
   "metadata": {},
   "source": [
    "#### 6.把上一题的 a数组的 0到1行 2到3列，放到b里面去，（此处不需要从新建立a,直接调用即可）(1),输出b;(2) 输出b 的（0,0）这个元素的值"
   ]
  },
  {
   "cell_type": "code",
   "execution_count": 9,
   "metadata": {
    "collapsed": true
   },
   "outputs": [
    {
     "name": "stdout",
     "output_type": "stream",
     "text": [
      "b:\n",
      " [[3 4]\n",
      " [7 8]]\n",
      "b(0,0): 3\n"
     ]
    }
   ],
   "source": [
    "b = a[:2, 2:]\n",
    "print(\"b:\\n\", b)\n",
    "print(\"b(0,0):\", b[0,0])"
   ]
  },
  {
   "cell_type": "markdown",
   "metadata": {},
   "source": [
    " #### 7. 把第5题中数组a的最后两行所有元素放到 c中，（提示： a[1:2, :]）(1)输出 c ; (2) 输出 c 中第一行的最后一个元素（提示，使用 -1                 表示最后一个元素）"
   ]
  },
  {
   "cell_type": "code",
   "execution_count": 11,
   "metadata": {
    "collapsed": true
   },
   "outputs": [
    {
     "name": "stdout",
     "output_type": "stream",
     "text": [
      "c:\n",
      " [[ 5  6  7  8]\n",
      " [ 9 10 11 12]]\n",
      "c中第一行最后一个元素； 8\n"
     ]
    }
   ],
   "source": [
    "c = np.array(a[1:3,:])\n",
    "print(\"c:\\n\", c)\n",
    "print(\"c中第一行最后一个元素；\",c[0,-1])"
   ]
  },
  {
   "cell_type": "markdown",
   "metadata": {},
   "source": [
    "#### 8.建立数组a,初始化a为[[1, 2], [3, 4], [5, 6]]，输出 （0,0）（1,1）（2,0）这三个元素（提示： 使用 print(a[[0, 1, 2], [0, 1, 0]]) ）"
   ]
  },
  {
   "cell_type": "code",
   "execution_count": 12,
   "metadata": {
    "collapsed": true
   },
   "outputs": [
    {
     "name": "stdout",
     "output_type": "stream",
     "text": [
      "a中(0,0),(1,1),(2,0)元素： [1 4 5]\n"
     ]
    }
   ],
   "source": [
    "a = np.array([[1,2],[3,4],[5,6]])\n",
    "print(\"a中(0,0),(1,1),(2,0)元素：\", a[[0,1,2],[0,1,0]])"
   ]
  },
  {
   "cell_type": "markdown",
   "metadata": {},
   "source": [
    "#### 9.建立矩阵a ,初始化为[[1, 2, 3], [4, 5, 6], [7, 8, 9], [10, 11, 12]]，输出(0,0),(1,2),(2,0),(3,1) (提示使用 b = np.array([0, 2, 0, 1])                     print(a[np.arange(4), b]))"
   ]
  },
  {
   "cell_type": "code",
   "execution_count": 13,
   "metadata": {
    "collapsed": true
   },
   "outputs": [
    {
     "name": "stdout",
     "output_type": "stream",
     "text": [
      "a中相应元素： [ 1  6  7 11]\n"
     ]
    }
   ],
   "source": [
    "a = np.array([[1,2,3],[4,5,6],[7,8,9],[10,11,12]])\n",
    "b = np.array([0,2,0,1])\n",
    "print(\"a中相应元素：\", a[np.arange(4),b])"
   ]
  },
  {
   "cell_type": "markdown",
   "metadata": {},
   "source": [
    "#### 10.对9 中输出的那四个元素，每个都加上10，然后重新输出矩阵a.(提示： a[np.arange(4), b] += 10 ）"
   ]
  },
  {
   "cell_type": "code",
   "execution_count": 15,
   "metadata": {
    "collapsed": true
   },
   "outputs": [
    {
     "name": "stdout",
     "output_type": "stream",
     "text": [
      "a中相应元素加10：\n",
      " [[21  2  3]\n",
      " [ 4  5 26]\n",
      " [27  8  9]\n",
      " [10 31 12]]\n"
     ]
    }
   ],
   "source": [
    "a[np.arange(4),b] += 10\n",
    "print(\"a中相应元素加10：\\n\", a)"
   ]
  },
  {
   "cell_type": "markdown",
   "metadata": {},
   "source": [
    "### array 的数学运算"
   ]
  },
  {
   "cell_type": "markdown",
   "metadata": {},
   "source": [
    "#### 11.  执行 x = np.array([1, 2])，然后输出 x 的数据类型"
   ]
  },
  {
   "cell_type": "code",
   "execution_count": 17,
   "metadata": {
    "collapsed": true
   },
   "outputs": [
    {
     "name": "stdout",
     "output_type": "stream",
     "text": [
      "x的数据类型： int32\n"
     ]
    }
   ],
   "source": [
    "x = np.array([1,2])\n",
    "print(\"x的数据类型：\", x.dtype)"
   ]
  },
  {
   "cell_type": "markdown",
   "metadata": {},
   "source": [
    "#### 12.执行 x = np.array([1.0, 2.0]) ，然后输出 x 的数据类型"
   ]
  },
  {
   "cell_type": "code",
   "execution_count": 18,
   "metadata": {
    "collapsed": true
   },
   "outputs": [
    {
     "name": "stdout",
     "output_type": "stream",
     "text": [
      "x的数据类型： float64\n"
     ]
    }
   ],
   "source": [
    "x = np.array([1.0,2.0])\n",
    "print(\"x的数据类型：\", x.dtype)"
   ]
  },
  {
   "cell_type": "markdown",
   "metadata": {},
   "source": [
<<<<<<< HEAD
    "#### 13.执行 x = np.array([[1, 2], [3, 4]], dtype=np.float64) ，y = np.array([[5, 6], [7, 8]], dtype=np.float64)，然后输出 x+y ,和 np.add(x,y)"
=======
    "#### 13.执行 x = np.array([[1, 2], [3, 4]], dtype=np.float64) ，y = np.array([[5, 6], [7, 8]], dtype=np.float64)，然后输出 x+y ,和 np.add(x,y) "
>>>>>>> 379bad27bd040bd7c1b3c6754bc3dc30f29007ba
   ]
  },
  {
   "cell_type": "code",
   "execution_count": 36,
   "metadata": {
    "collapsed": true
   },
   "outputs": [
    {
     "name": "stdout",
     "output_type": "stream",
     "text": [
      "x+y:\n",
      " [[ 6.  8.]\n",
      " [10. 12.]]\n",
      "np.add(x,y):\n",
      " [[ 6.  8.]\n",
      " [10. 12.]]\n"
     ]
    }
   ],
   "source": [
    "x = np.array([[1,2],[3,4]], dtype=np.float64)\n",
    "y = np.array([[5,6],[7,8]], dtype=np.float64)\n",
    "print(\"x+y:\\n\", x+y)\n",
    "print(\"np.add(x,y):\\n\", np.add(x,y))"
   ]
  },
  {
   "cell_type": "markdown",
   "metadata": {},
   "source": [
    "#### 14. 利用 13题目中的x,y 输出 x-y 和 np.subtract(x,y)"
   ]
  },
  {
   "cell_type": "code",
   "execution_count": 37,
   "metadata": {
    "collapsed": true
   },
   "outputs": [
    {
     "name": "stdout",
     "output_type": "stream",
     "text": [
      "x-y:\n",
      " [[-4. -4.]\n",
      " [-4. -4.]]\n",
      "np.subtract(x,y):\n",
      " [[-4. -4.]\n",
      " [-4. -4.]]\n"
     ]
    }
   ],
   "source": [
    "print(\"x-y:\\n\", x-y)\n",
    "print(\"np.subtract(x,y):\\n\", np.subtract(x,y))"
   ]
  },
  {
   "cell_type": "markdown",
   "metadata": {},
   "source": [
    "#### 15. 利用13题目中的x，y 输出 x*y ,和 np.multiply(x, y) 还有  np.dot(x,y),比较差异。然后自己换一个不是方阵的试试。"
   ]
  },
  {
   "cell_type": "code",
   "execution_count": 38,
   "metadata": {
    "collapsed": true
   },
   "outputs": [
    {
     "name": "stdout",
     "output_type": "stream",
     "text": [
      "x*y:\n",
      " [[ 5. 12.]\n",
      " [21. 32.]]\n",
      "np.multiply(x,y):\n",
      " [[ 5. 12.]\n",
      " [21. 32.]]\n",
      "np.dot(x,y):\n",
      " [[19. 22.]\n",
      " [43. 50.]]\n",
      "np.dot(m,n):\n",
      " [[22. 28.]\n",
      " [49. 64.]]\n"
     ]
    }
   ],
   "source": [
    "print(\"x*y:\\n\", x*y)\n",
    "print(\"np.multiply(x,y):\\n\", np.multiply(x,y)) # 矩阵对应元素相乘\n",
    "print(\"np.dot(x,y):\\n\", np.dot(x,y)) # 矩阵乘法\n",
    "\n",
    "m = np.array([[1,2,3],[4,5,6]], dtype=np.float64)\n",
    "n = np.array([[1,2],[3,4],[5,6]], dtype=np.float64)\n",
    "# print(\"m*n:\\n\", m*n) # 报错:operands could not be broadcast together with shapes (2,3) (3,2) \n",
    "# print(\"np.multiply(m,n):\\n\", np.multiply(m,n)) # 报错:operands could not be broadcast together with shapes (2,3) (3,2)\n",
    "print(\"np.dot(m,n):\\n\", np.dot(m,n))"
   ]
  },
  {
   "cell_type": "markdown",
   "metadata": {},
   "source": [
    "#### 16. 利用13题目中的x,y,输出 x / y .(提示 ： 使用函数 np.divide())"
   ]
  },
  {
   "cell_type": "code",
   "execution_count": 39,
   "metadata": {},
   "outputs": [
    {
     "name": "stdout",
     "output_type": "stream",
     "text": [
      "x/y:\n",
      " [[0.2        0.33333333]\n",
      " [0.42857143 0.5       ]]\n"
     ]
    }
   ],
   "source": [
    "print(\"x/y:\\n\", np.divide(x,y))"
   ]
  },
  {
   "cell_type": "markdown",
   "metadata": {},
   "source": [
    "#### 17. 利用13题目中的x,输出 x的 开方。(提示： 使用函数 np.sqrt() )"
   ]
  },
  {
   "cell_type": "code",
   "execution_count": 40,
   "metadata": {
    "collapsed": true
   },
   "outputs": [
    {
     "name": "stdout",
     "output_type": "stream",
     "text": [
      "np.sqrt(x):\n",
      " [[1.         1.41421356]\n",
      " [1.73205081 2.        ]]\n"
     ]
    }
   ],
   "source": [
    "print(\"np.sqrt(x):\\n\", np.sqrt(x))"
   ]
  },
  {
   "cell_type": "markdown",
   "metadata": {},
   "source": [
    "#### 18.利用13题目中的x,y ,执行 print(x.dot(y)) 和 print(np.dot(x,y))"
   ]
  },
  {
   "cell_type": "code",
   "execution_count": 41,
   "metadata": {
    "collapsed": true
   },
   "outputs": [
    {
     "name": "stdout",
     "output_type": "stream",
     "text": [
      "[[19. 22.]\n",
      " [43. 50.]]\n",
      "[[19. 22.]\n",
      " [43. 50.]]\n"
     ]
    }
   ],
   "source": [
    "print(x.dot(y))\n",
    "print(np.dot(x,y))"
   ]
  },
  {
   "cell_type": "markdown",
   "metadata": {},
   "source": [
    "##### 19.利用13题目中的 x,进行求和。提示：输出三种求和 (1)print(np.sum(x)):   (2)print(np.sum(x，axis =0 ));   (3)print(np.sum(x,axis = 1))"
   ]
  },
  {
   "cell_type": "code",
   "execution_count": 42,
   "metadata": {
    "collapsed": true
   },
   "outputs": [
    {
     "name": "stdout",
     "output_type": "stream",
     "text": [
      "10.0\n",
      "[4. 6.]\n",
      "[3. 7.]\n"
     ]
    }
   ],
   "source": [
    "print(np.sum(x))\n",
    "print(np.sum(x, axis=0))\n",
    "print(np.sum(x, axis=1))"
   ]
  },
  {
   "cell_type": "markdown",
   "metadata": {},
   "source": [
    "#### 20.利用13题目中的 x,进行求平均数（提示：输出三种平均数(1)print(np.mean(x)) (2)print(np.mean(x,axis = 0))(3) print(np.mean(x,axis =1))）"
   ]
  },
  {
   "cell_type": "code",
   "execution_count": 43,
   "metadata": {
    "collapsed": true
   },
   "outputs": [
    {
     "name": "stdout",
     "output_type": "stream",
     "text": [
      "2.5\n",
      "[2. 3.]\n",
      "[1.5 3.5]\n"
     ]
    }
   ],
   "source": [
    "print(np.mean(x))\n",
    "print(np.mean(x, axis=0))\n",
    "print(np.mean(x, axis=1))"
   ]
  },
  {
   "cell_type": "markdown",
   "metadata": {},
   "source": [
    "#### 21.利用13题目中的x，对x 进行矩阵转置，然后输出转置后的结果，（提示： x.T 表示对 x 的转置）"
   ]
  },
  {
   "cell_type": "code",
   "execution_count": 44,
   "metadata": {
    "collapsed": true
   },
   "outputs": [
    {
     "name": "stdout",
     "output_type": "stream",
     "text": [
      "[[1. 3.]\n",
      " [2. 4.]]\n"
     ]
    }
   ],
   "source": [
    "print(x.T)"
   ]
  },
  {
   "cell_type": "markdown",
   "metadata": {
    "collapsed": true
   },
   "source": [
    "#### 22.利用13题目中的x,求e的指数（提示： 函数 np.exp()）"
   ]
  },
  {
   "cell_type": "code",
   "execution_count": 45,
   "metadata": {
    "collapsed": true
   },
   "outputs": [
    {
     "name": "stdout",
     "output_type": "stream",
     "text": [
      "[[ 2.71828183  7.3890561 ]\n",
      " [20.08553692 54.59815003]]\n"
     ]
    }
   ],
   "source": [
    "print(np.exp(x))"
   ]
  },
  {
   "cell_type": "markdown",
   "metadata": {},
   "source": [
    "#### 23.利用13题目中的 x,求值最大的下标（提示(1)print(np.argmax(x)) ,(2) print(np.argmax(x, axis =0))(3)print(np.argmax(x),axis =1))"
   ]
  },
  {
   "cell_type": "code",
   "execution_count": 46,
   "metadata": {},
   "outputs": [
    {
     "name": "stdout",
     "output_type": "stream",
     "text": [
      "3\n",
      "[1 1]\n",
      "[1 1]\n"
     ]
    }
   ],
   "source": [
    "print(np.argmax(x))\n",
    "print(np.argmax(x, axis=0))\n",
    "print(np.argmax(x, axis=1))"
   ]
  },
  {
   "cell_type": "markdown",
   "metadata": {},
   "source": [
    "#### 24,画图，y=x*x 其中 x = np.arange(0, 100, 0.1) （提示这里用到  matplotlib.pyplot 库）"
   ]
  },
  {
   "cell_type": "code",
   "execution_count": 51,
   "metadata": {
    "collapsed": true
   },
   "outputs": [
    {
     "data": {
      "image/png": "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",
      "text/plain": [
       "<Figure size 640x480 with 1 Axes>"
      ]
     },
     "metadata": {},
     "output_type": "display_data"
    }
   ],
   "source": [
    "import matplotlib.pyplot as plt\n",
    "x = np.arange(0, 100, 0.1)\n",
    "y = x*x\n",
    "plt.plot(x, y)\n",
    "plt.xlabel(\"x\")\n",
    "plt.ylabel(\"y\")\n",
    "plt.title(\"y=x*x\")\n",
    "plt.show()"
   ]
  },
  {
   "cell_type": "markdown",
   "metadata": {},
   "source": [
    "#### 25.画图。画正弦函数和余弦函数， x = np.arange(0, 3 * np.pi, 0.1)(提示：这里用到 np.sin() np.cos() 函数和 matplotlib.pyplot 库)"
   ]
  },
  {
   "cell_type": "code",
   "execution_count": 52,
   "metadata": {
    "collapsed": true
   },
   "outputs": [
    {
     "data": {
      "image/png": "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",
      "text/plain": [
       "<Figure size 640x480 with 1 Axes>"
      ]
     },
     "metadata": {},
     "output_type": "display_data"
    }
   ],
   "source": [
    "x = np.arange(0, 3*np.pi, 0.1)\n",
    "y1 = np.sin(x)\n",
    "y2 = np.cos(x)\n",
    "\n",
    "plt.plot(x, y1, label=\"sin\")\n",
    "plt.plot(x, y2, label=\"cos\")\n",
    "plt.xlabel(\"x\")\n",
    "plt.ylabel(\"y\")\n",
    "plt.title(\"sin and cos\")\n",
    "plt.legend()\n",
    "plt.show()"
   ]
  },
  {
   "cell_type": "code",
   "execution_count": null,
   "metadata": {},
   "outputs": [],
   "source": []
  }
 ],
 "metadata": {
  "anaconda-cloud": {},
  "kernelspec": {
   "display_name": "AI_Detection",
   "language": "python",
   "name": "python3"
  },
  "language_info": {
   "codemirror_mode": {
    "name": "ipython",
    "version": 3
   },
   "file_extension": ".py",
   "mimetype": "text/x-python",
   "name": "python",
   "nbconvert_exporter": "python",
   "pygments_lexer": "ipython3",
   "version": "3.8.19"
  }
 },
 "nbformat": 4,
 "nbformat_minor": 1
}
