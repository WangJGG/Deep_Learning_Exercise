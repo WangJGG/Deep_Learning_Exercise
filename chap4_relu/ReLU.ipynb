{
 "cells": [
  {
   "cell_type": "markdown",
   "metadata": {},
   "source": [
    "# ReLU网络模拟任何函数\n",
    "下面使用两层的ReLU网络来模拟函数$f(x) = ln(1+e^x)$。\n"
   ]
  },
  {
   "cell_type": "code",
   "execution_count": 1,
   "metadata": {},
   "outputs": [
    {
     "name": "stderr",
     "output_type": "stream",
     "text": [
      "c:\\Users\\dhtfj\\anaconda3\\envs\\AI_Detection\\lib\\site-packages\\tqdm\\auto.py:21: TqdmWarning: IProgress not found. Please update jupyter and ipywidgets. See https://ipywidgets.readthedocs.io/en/stable/user_install.html\n",
      "  from .autonotebook import tqdm as notebook_tqdm\n"
     ]
    }
   ],
   "source": [
    "import torch\n",
    "import torch.nn as nn\n",
    "import torch.nn.functional as F\n",
    "import torch.utils.data as DataLoader\n",
    "\n",
    "\n",
    "import numpy as np\n",
    "from sklearn.model_selection import train_test_split\n",
    "import matplotlib.pyplot as plt\n"
   ]
  },
  {
   "cell_type": "markdown",
   "metadata": {},
   "source": [
    "## Tagret function: $f(x) = ln(1+e^x)$"
   ]
  },
  {
   "cell_type": "code",
   "execution_count": 2,
   "metadata": {},
   "outputs": [
    {
     "data": {
      "image/png": "[encoded data removed]",
      "text/plain": [
       "<Figure size 640x480 with 1 Axes>"
      ]
     },
     "metadata": {},
     "output_type": "display_data"
    }
   ],
   "source": [
    "def target_function(x):\n",
    "    return torch.log(1 + torch.exp(x))\n",
    "\n",
    "x = torch.linspace(-10, 10, 1000)\n",
    "y = target_function(x)\n",
    "plt.plot(x.numpy(), y.numpy())\n",
    "plt.show()"
   ]
  },
  {
   "cell_type": "markdown",
   "metadata": {},
   "source": [
    "## Dataset"
   ]
  },
  {
   "cell_type": "code",
   "execution_count": 3,
   "metadata": {},
   "outputs": [],
   "source": [
    "# Create train, val and test dataset\n",
    "X = torch.linspace(-10, 10, 1000).reshape(-1, 1)\n",
    "y = target_function(X)\n",
    "\n",
    "X_train, X_test, y_train, y_test = train_test_split(X, y, test_size=0.2)\n",
    "X_train,X_val,y_train,y_val = train_test_split(X_train, y_train, test_size=0.2)\n",
    "\n",
    "# Create dataloaders\n",
    "train_dataset = DataLoader.TensorDataset(X_train, y_train)\n",
    "val_dataset = DataLoader.TensorDataset(X_val, y_val)\n",
    "test_dataset = DataLoader.TensorDataset(X_test, y_test)"
   ]
  },
  {
   "cell_type": "markdown",
   "metadata": {},
   "source": [
    "## Model"
   ]
  },
  {
   "cell_type": "code",
   "execution_count": 9,
   "metadata": {},
   "outputs": [],
   "source": [
    "# Create Model\n",
    "class MyModel(nn.Module):\n",
    "    def __init__(self):\n",
    "        super(MyModel, self).__init__()\n",
    "        self.fc1 = nn.Linear(1, 10)\n",
    "        self.fc2 = nn.Linear(10, 1)\n",
    "\n",
    "    def forward(self, x):\n",
    "        x = F.relu(self.fc1(x))\n",
    "        x = self.fc2(x)\n",
    "        return x"
   ]
  },
  {
   "cell_type": "markdown",
   "metadata": {},
   "source": [
    "## Loss function"
   ]
  },
  {
   "cell_type": "code",
   "execution_count": 10,
   "metadata": {},
   "outputs": [],
   "source": [
    "# Create loss\n",
    "criterion = nn.MSELoss()\n",
    "\n",
    "def validate(model, val_loader):\n",
    "    model.eval()\n",
    "    val_loss = 0\n",
    "    with torch.no_grad():\n",
    "        for X_val, y_val in val_loader:\n",
    "            y_pred = model(X_val)\n",
    "            loss = criterion(y_pred, y_val)\n",
    "            val_loss += loss.item()\n",
    "    return val_loss / len(val_loader)"
   ]
  },
  {
   "cell_type": "markdown",
   "metadata": {},
   "source": [
    "## Training Method"
   ]
  },
  {
   "cell_type": "code",
   "execution_count": 11,
   "metadata": {},
   "outputs": [],
   "source": [
    "def train_one_epoch(model, train_loader, optimizer):\n",
    "    model.train()\n",
    "    train_loss = 0\n",
    "    for X_train, y_train in train_loader:\n",
    "        optimizer.zero_grad()\n",
    "        y_pred = model(X_train)\n",
    "        loss = criterion(y_pred, y_train)\n",
    "        loss.backward()\n",
    "        optimizer.step()\n",
    "        train_loss += loss.item()\n",
    "    return train_loss / len(train_loader)\n",
    "\n",
    "def train(model, train_loader, val_loader, optimizer, epochs):\n",
    "    train_losses = []\n",
    "    val_losses = []\n",
    "    for epoch in range(epochs):\n",
    "        train_loss = train_one_epoch(model, train_loader, optimizer)\n",
    "        val_loss = validate(model, val_loader)\n",
    "        train_losses.append(train_loss)\n",
    "        val_losses.append(val_loss)\n",
    "        print(f\"Epoch {epoch+1}/{epochs}, Train Loss: {train_loss}, Val Loss: {val_loss}\")\n",
    "    return train_losses, val_losses"
   ]
  },
  {
   "cell_type": "markdown",
   "metadata": {},
   "source": [
    "## Model Training"
   ]
  },
  {
   "cell_type": "code",
   "execution_count": 12,
   "metadata": {},
   "outputs": [
    {
     "name": "stdout",
     "output_type": "stream",
     "text": [
      "Epoch 1/100, Train Loss: 14.707428073883056, Val Loss: 8.19561071395874\n",
      "Epoch 2/100, Train Loss: 5.471445572376251, Val Loss: 1.7717478036880494\n",
      "Epoch 3/100, Train Loss: 0.7493944764137268, Val Loss: 0.27080904841423037\n",
      "Epoch 4/100, Train Loss: 0.2527051892131567, Val Loss: 0.19971970617771148\n",
      "Epoch 5/100, Train Loss: 0.15154133141040801, Val Loss: 0.13457009047269822\n",
      "Epoch 6/100, Train Loss: 0.12289286404848099, Val Loss: 0.11145746260881424\n",
      "Epoch 7/100, Train Loss: 0.09809660129249095, Val Loss: 0.09416806697845459\n",
      "Epoch 8/100, Train Loss: 0.07928965520113707, Val Loss: 0.0740020215511322\n",
      "Epoch 9/100, Train Loss: 0.06433933321386576, Val Loss: 0.06099146381020546\n",
      "Epoch 10/100, Train Loss: 0.052429931424558165, Val Loss: 0.05060333833098411\n",
      "Epoch 11/100, Train Loss: 0.04364000363275409, Val Loss: 0.042376459389925\n",
      "Epoch 12/100, Train Loss: 0.03714922610670328, Val Loss: 0.03596813566982746\n",
      "Epoch 13/100, Train Loss: 0.031908430717885496, Val Loss: 0.03177859000861645\n",
      "Epoch 14/100, Train Loss: 0.028136462345719336, Val Loss: 0.027882352843880652\n",
      "Epoch 15/100, Train Loss: 0.024732443783432246, Val Loss: 0.024261388555169107\n",
      "Epoch 16/100, Train Loss: 0.021925851190462708, Val Loss: 0.02125185914337635\n",
      "Epoch 17/100, Train Loss: 0.019510649144649506, Val Loss: 0.020173758268356323\n",
      "Epoch 18/100, Train Loss: 0.017295176396146417, Val Loss: 0.016952766478061675\n",
      "Epoch 19/100, Train Loss: 0.01539803366176784, Val Loss: 0.01542564295232296\n",
      "Epoch 20/100, Train Loss: 0.013658070215024054, Val Loss: 0.013938483223319054\n",
      "Epoch 21/100, Train Loss: 0.012252536555752157, Val Loss: 0.01236807107925415\n",
      "Epoch 22/100, Train Loss: 0.01105656111612916, Val Loss: 0.010924525931477547\n",
      "Epoch 23/100, Train Loss: 0.010072557674720883, Val Loss: 0.0104568462818861\n",
      "Epoch 24/100, Train Loss: 0.009060255531221629, Val Loss: 0.008918378036469221\n",
      "Epoch 25/100, Train Loss: 0.008161171153187752, Val Loss: 0.008442461024969816\n",
      "Epoch 26/100, Train Loss: 0.007407664577476681, Val Loss: 0.0073304491117596625\n",
      "Epoch 27/100, Train Loss: 0.006535333395004272, Val Loss: 0.0064502044580876826\n",
      "Epoch 28/100, Train Loss: 0.005878010077867657, Val Loss: 0.0056418957188725475\n",
      "Epoch 29/100, Train Loss: 0.005310830823145807, Val Loss: 0.005062411725521088\n",
      "Epoch 30/100, Train Loss: 0.004676190309692174, Val Loss: 0.0045167113654315475\n",
      "Epoch 31/100, Train Loss: 0.004222937067970634, Val Loss: 0.003919293684884906\n",
      "Epoch 32/100, Train Loss: 0.003812574758194387, Val Loss: 0.004038118105381727\n",
      "Epoch 33/100, Train Loss: 0.0034442122268956155, Val Loss: 0.0035931496415287255\n",
      "Epoch 34/100, Train Loss: 0.003222034958889708, Val Loss: 0.0032839682418853043\n",
      "Epoch 35/100, Train Loss: 0.002813595999032259, Val Loss: 0.002638457342982292\n",
      "Epoch 36/100, Train Loss: 0.0024826420238241555, Val Loss: 0.002670961618423462\n",
      "Epoch 37/100, Train Loss: 0.0021099669800605627, Val Loss: 0.002416181983426213\n",
      "Epoch 38/100, Train Loss: 0.0018241496291011572, Val Loss: 0.0016183761646971107\n",
      "Epoch 39/100, Train Loss: 0.0015523954352829605, Val Loss: 0.0014261267613619566\n",
      "Epoch 40/100, Train Loss: 0.001349757847492583, Val Loss: 0.0012265492230653762\n",
      "Epoch 41/100, Train Loss: 0.0011702183866873384, Val Loss: 0.0010754988295957446\n",
      "Epoch 42/100, Train Loss: 0.00103293685533572, Val Loss: 0.0011139180627651513\n",
      "Epoch 43/100, Train Loss: 0.0009075905123609118, Val Loss: 0.0008470800588838756\n",
      "Epoch 44/100, Train Loss: 0.0008056769453105517, Val Loss: 0.0007588043692521751\n",
      "Epoch 45/100, Train Loss: 0.0007498295031837188, Val Loss: 0.0007096517132595181\n",
      "Epoch 46/100, Train Loss: 0.0006389769812813028, Val Loss: 0.0006005453411489725\n",
      "Epoch 47/100, Train Loss: 0.000577263098966796, Val Loss: 0.0005424471222795546\n",
      "Epoch 48/100, Train Loss: 0.0005012104258639738, Val Loss: 0.00048282777424901724\n",
      "Epoch 49/100, Train Loss: 0.00044565607313415965, Val Loss: 0.00042206295183859764\n",
      "Epoch 50/100, Train Loss: 0.00040443055040668697, Val Loss: 0.0004023563436930999\n",
      "Epoch 51/100, Train Loss: 0.0003628414931881707, Val Loss: 0.0003756019985303283\n",
      "Epoch 52/100, Train Loss: 0.00034701095646596516, Val Loss: 0.000324545448529534\n",
      "Epoch 53/100, Train Loss: 0.00033023201976902785, Val Loss: 0.0003268574422691017\n",
      "Epoch 54/100, Train Loss: 0.0003120163168205181, Val Loss: 0.0002785635180771351\n",
      "Epoch 55/100, Train Loss: 0.00028624791666516104, Val Loss: 0.0002754627668764442\n",
      "Epoch 56/100, Train Loss: 0.0002622344938572496, Val Loss: 0.0002616106066852808\n",
      "Epoch 57/100, Train Loss: 0.00026830750357476063, Val Loss: 0.0003294150112196803\n",
      "Epoch 58/100, Train Loss: 0.0002477624606399331, Val Loss: 0.00023456579947378486\n",
      "Epoch 59/100, Train Loss: 0.0002283974776219111, Val Loss: 0.00023012290912447498\n",
      "Epoch 60/100, Train Loss: 0.0002229181245638756, Val Loss: 0.00022238098172238096\n",
      "Epoch 61/100, Train Loss: 0.00021344870219763834, Val Loss: 0.00023153622023528442\n",
      "Epoch 62/100, Train Loss: 0.00020669518344220705, Val Loss: 0.00020571949426084757\n",
      "Epoch 63/100, Train Loss: 0.00020198793426970952, Val Loss: 0.0002075793978292495\n",
      "Epoch 64/100, Train Loss: 0.0001954487968760077, Val Loss: 0.0002006377384532243\n",
      "Epoch 65/100, Train Loss: 0.0001946051557752071, Val Loss: 0.00019534107559593394\n",
      "Epoch 66/100, Train Loss: 0.0001898650953080505, Val Loss: 0.00019148016435792669\n",
      "Epoch 67/100, Train Loss: 0.00018955733539769427, Val Loss: 0.0001868858962552622\n",
      "Epoch 68/100, Train Loss: 0.0001932448893057881, Val Loss: 0.00023945844586705788\n",
      "Epoch 69/100, Train Loss: 0.00018652047729119658, Val Loss: 0.00018492893868824468\n",
      "Epoch 70/100, Train Loss: 0.00017545139671710787, Val Loss: 0.00018826047744369134\n",
      "Epoch 71/100, Train Loss: 0.0001750084869854618, Val Loss: 0.00017972533532883972\n",
      "Epoch 72/100, Train Loss: 0.00017174009026348357, Val Loss: 0.0001817818541894667\n",
      "Epoch 73/100, Train Loss: 0.0001778732843376929, Val Loss: 0.0002056198412901722\n",
      "Epoch 74/100, Train Loss: 0.00018205424057669007, Val Loss: 0.00018113695550709964\n",
      "Epoch 75/100, Train Loss: 0.0001641622897295747, Val Loss: 0.00018115226703230292\n",
      "Epoch 76/100, Train Loss: 0.00016509148117620497, Val Loss: 0.00017547296592965723\n",
      "Epoch 77/100, Train Loss: 0.00015923760365694762, Val Loss: 0.00017744802025845274\n",
      "Epoch 78/100, Train Loss: 0.00018287440107087605, Val Loss: 0.0002043256550678052\n",
      "Epoch 79/100, Train Loss: 0.00016457962810818573, Val Loss: 0.00023343110224232077\n",
      "Epoch 80/100, Train Loss: 0.00016205919855565297, Val Loss: 0.00017015330959111453\n",
      "Epoch 81/100, Train Loss: 0.00014997704602137674, Val Loss: 0.00016319569549523295\n",
      "Epoch 82/100, Train Loss: 0.00016719330269552302, Val Loss: 0.00016854741843417287\n",
      "Epoch 83/100, Train Loss: 0.00017170659120893105, Val Loss: 0.00016113228193717077\n",
      "Epoch 84/100, Train Loss: 0.0001593531938851811, Val Loss: 0.00022887304367031903\n",
      "Epoch 85/100, Train Loss: 0.00016582732241658958, Val Loss: 0.00016311457147821784\n",
      "Epoch 86/100, Train Loss: 0.00015830218035262078, Val Loss: 0.0001722769986372441\n",
      "Epoch 87/100, Train Loss: 0.00017046456450771076, Val Loss: 0.00018660255300346763\n",
      "Epoch 88/100, Train Loss: 0.00015290726041712334, Val Loss: 0.00015903266321402044\n",
      "Epoch 89/100, Train Loss: 0.00014886402223055484, Val Loss: 0.00015340370882768183\n",
      "Epoch 90/100, Train Loss: 0.0001462016149162082, Val Loss: 0.0001822442194679752\n",
      "Epoch 91/100, Train Loss: 0.00015383244717668277, Val Loss: 0.0001637476423638873\n",
      "Epoch 92/100, Train Loss: 0.00014553846776834689, Val Loss: 0.00015137019217945636\n",
      "Epoch 93/100, Train Loss: 0.0001405409970175242, Val Loss: 0.00015988535014912486\n",
      "Epoch 94/100, Train Loss: 0.00015466939948964863, Val Loss: 0.000152061136031989\n",
      "Epoch 95/100, Train Loss: 0.00014154107993817887, Val Loss: 0.0001633949053939432\n",
      "Epoch 96/100, Train Loss: 0.00013857821650162805, Val Loss: 0.00015555504651274533\n",
      "Epoch 97/100, Train Loss: 0.0001470432511268882, Val Loss: 0.000161517909145914\n",
      "Epoch 98/100, Train Loss: 0.00016033538013289218, Val Loss: 0.0002619459322886541\n",
      "Epoch 99/100, Train Loss: 0.00016080305140349084, Val Loss: 0.00014722400956088678\n",
      "Epoch 100/100, Train Loss: 0.00014936829065845814, Val Loss: 0.00015936447744024917\n"
     ]
    },
    {
     "data": {
      "image/png": "[encoded data removed]",
      "text/plain": [
       "<Figure size 640x480 with 1 Axes>"
      ]
     },
     "metadata": {},
     "output_type": "display_data"
    }
   ],
   "source": [
    "model = MyModel()\n",
    "optimizer = torch.optim.Adam(model.parameters(), lr=0.01)\n",
    "train_loader = DataLoader.DataLoader(train_dataset, batch_size=32, shuffle=True)\n",
    "val_loader = DataLoader.DataLoader(val_dataset, batch_size=32, shuffle=False)\n",
    "\n",
    "train_losses, val_losses = train(model, train_loader, val_loader, optimizer, epochs=100)\n",
    "\n",
    "plt.plot(train_losses, label='Train Loss')\n",
    "plt.plot(val_losses, label='Val Loss')\n",
    "plt.legend()\n",
    "plt.show()"
   ]
  },
  {
   "cell_type": "markdown",
   "metadata": {},
   "source": [
    "## Model Evaluation"
   ]
  },
  {
   "cell_type": "code",
   "execution_count": null,
   "metadata": {},
   "outputs": [
    {
     "name": "stdout",
     "output_type": "stream",
     "text": [
      "MSE: 0.00013982794189359993, MAE: 0.009434167295694351, R2: 0.9999862313270569, RMSE: 0.011824886314570904\n"
     ]
    },
    {
     "ename": "NameError",
     "evalue": "name 'x_test' is not defined",
     "output_type": "error",
     "traceback": [
      "\u001b[1;31m---------------------------------------------------------------------------\u001b[0m",
      "\u001b[1;31mNameError\u001b[0m                                 Traceback (most recent call last)",
      "Cell \u001b[1;32mIn[14], line 13\u001b[0m\n\u001b[0;32m     10\u001b[0m     rmse \u001b[38;5;241m=\u001b[39m torch\u001b[38;5;241m.\u001b[39msqrt(mse)\n\u001b[0;32m     11\u001b[0m     \u001b[38;5;28mprint\u001b[39m(\u001b[38;5;124mf\u001b[39m\u001b[38;5;124m\"\u001b[39m\u001b[38;5;124mMSE: \u001b[39m\u001b[38;5;132;01m{\u001b[39;00mmse\u001b[38;5;132;01m}\u001b[39;00m\u001b[38;5;124m, MAE: \u001b[39m\u001b[38;5;132;01m{\u001b[39;00mmae\u001b[38;5;132;01m}\u001b[39;00m\u001b[38;5;124m, R2: \u001b[39m\u001b[38;5;132;01m{\u001b[39;00mr2\u001b[38;5;132;01m}\u001b[39;00m\u001b[38;5;124m, RMSE: \u001b[39m\u001b[38;5;132;01m{\u001b[39;00mrmse\u001b[38;5;132;01m}\u001b[39;00m\u001b[38;5;124m\"\u001b[39m)\n\u001b[1;32m---> 13\u001b[0m plt\u001b[38;5;241m.\u001b[39mplot(\u001b[43mx_test\u001b[49m\u001b[38;5;241m.\u001b[39mnumpy(), y_true, label\u001b[38;5;241m=\u001b[39m\u001b[38;5;124m\"\u001b[39m\u001b[38;5;124mTrue Function\u001b[39m\u001b[38;5;124m\"\u001b[39m, linestyle\u001b[38;5;241m=\u001b[39m\u001b[38;5;124m\"\u001b[39m\u001b[38;5;124mdashed\u001b[39m\u001b[38;5;124m\"\u001b[39m)\n\u001b[0;32m     14\u001b[0m plt\u001b[38;5;241m.\u001b[39mplot(x_test\u001b[38;5;241m.\u001b[39mnumpy(), y_pred, label\u001b[38;5;241m=\u001b[39m\u001b[38;5;124m\"\u001b[39m\u001b[38;5;124mNN Approximation\u001b[39m\u001b[38;5;124m\"\u001b[39m, alpha\u001b[38;5;241m=\u001b[39m\u001b[38;5;241m0.7\u001b[39m)\n\u001b[0;32m     15\u001b[0m plt\u001b[38;5;241m.\u001b[39mlegend()\n",
      "\u001b[1;31mNameError\u001b[0m: name 'x_test' is not defined"
     ]
    }
   ],
   "source": [
    "# Test the model\n",
    "test_loader = DataLoader.DataLoader(test_dataset, batch_size=32, shuffle=False)\n",
    "model.eval()\n",
    "with torch.no_grad():\n",
    "    y_pred = model(X)\n",
    "    #多种评价指标拟合效果，包括MSE, MAE, R2, RMSE\n",
    "    mse = criterion(y_pred, y)\n",
    "    mae = F.l1_loss(y_pred, y)\n",
    "    r2 = 1 - mse / torch.var(y)\n",
    "    rmse = torch.sqrt(mse)\n",
    "    print(f\"MSE: {mse}, MAE: {mae}, R2: {r2}, RMSE: {rmse}\")\n",
    "\n",
    "plt.plot(X.numpy(), y.numpy(), label='True Function')\n",
    "plt.plot(X.numpy(), y_pred.numpy(), label='Predicted Function')\n",
    "plt.legend()\n",
    "plt.xlabel(\"x\")\n",
    "plt.ylabel(\"f(x)\")\n",
    "plt.title(\"ReLU Neural Network Approximation\")\n",
    "plt.show()"
   ]
  },
  {
   "cell_type": "code",
   "execution_count": null,
   "metadata": {},
   "outputs": [],
   "source": []
  }
 ],
 "metadata": {
  "kernelspec": {
   "display_name": "AI_Detection",
   "language": "python",
   "name": "python3"
  },
  "language_info": {
   "codemirror_mode": {
    "name": "ipython",
    "version": 3
   },
   "file_extension": ".py",
   "mimetype": "text/x-python",
   "name": "python",
   "nbconvert_exporter": "python",
   "pygments_lexer": "ipython3",
   "version": "3.8.19"
  }
 },
 "nbformat": 4,
 "nbformat_minor": 2
}
